{
 "cells": [
  {
   "cell_type": "raw",
   "id": "d828ecf4-970a-4707-a59f-b8882753317f",
   "metadata": {},
   "source": [
    "                                                 ASSIGNMENT-6"
   ]
  },
  {
   "cell_type": "raw",
   "id": "833a8789-b620-435d-a116-58336d40bd4e",
   "metadata": {},
   "source": []
  },
  {
   "cell_type": "raw",
   "id": "c3f09317-babf-4bfe-8a4c-8ed36bfdf773",
   "metadata": {},
   "source": []
  },
  {
   "cell_type": "raw",
   "id": "a21d70de-4b90-4020-94b2-ce09f7a6bdab",
   "metadata": {},
   "source": [
    "Ques.1  Explain Class and Object with respect to Object-Oriented Programming. Give a suitable example."
   ]
  },
  {
   "cell_type": "raw",
   "id": "73f46034-975f-48d3-ba4c-5f371ca1907a",
   "metadata": {},
   "source": [
    "In object-oriented programming (OOP), a class is a blueprint or a template for creating objects. It defines the properties (attributes) and behaviors (methods) that objects of that class will have. An object, on the other hand, is an instance of a class—a concrete realization of the class blueprint that possesses its own state and behavior."
   ]
  },
  {
   "cell_type": "code",
   "execution_count": 1,
   "id": "aeb13854-27d0-4cef-a34e-0384caf459c6",
   "metadata": {},
   "outputs": [
    {
     "name": "stdout",
     "output_type": "stream",
     "text": [
      "The 2022 Toyota Corolla's engine is started.\n",
      "Is the 2022 Toyota Corolla running? True\n",
      "The 2023 Tesla Model S's engine is started.\n",
      "Is the 2023 Tesla Model S running? True\n",
      "The 2022 Toyota Corolla's engine is stopped.\n",
      "Is the 2022 Toyota Corolla running? False\n"
     ]
    }
   ],
   "source": [
    "class Car:\n",
    "    def __init__(self, make, model, year):\n",
    "        self.make = make\n",
    "        self.model = model\n",
    "        self.year = year\n",
    "        self.is_running = False\n",
    "\n",
    "    def start_engine(self):\n",
    "        self.is_running = True\n",
    "        print(f\"The {self.year} {self.make} {self.model}'s engine is started.\")\n",
    "\n",
    "    def stop_engine(self):\n",
    "        self.is_running = False\n",
    "        print(f\"The {self.year} {self.make} {self.model}'s engine is stopped.\")\n",
    "\n",
    "# Creating instances (objects) of the Car class\n",
    "car1 = Car(\"Toyota\", \"Corolla\", 2022)\n",
    "car2 = Car(\"Tesla\", \"Model S\", 2023)\n",
    "\n",
    "# Accessing object attributes and calling object methods\n",
    "car1.start_engine()\n",
    "print(f\"Is the {car1.year} {car1.make} {car1.model} running? {car1.is_running}\")\n",
    "\n",
    "car2.start_engine()\n",
    "print(f\"Is the {car2.year} {car2.make} {car2.model} running? {car2.is_running}\")\n",
    "\n",
    "car1.stop_engine()\n",
    "print(f\"Is the {car1.year} {car1.make} {car1.model} running? {car1.is_running}\")\n"
   ]
  },
  {
   "cell_type": "raw",
   "id": "ad620d9d-849b-4150-9376-e507b0a2f9e2",
   "metadata": {},
   "source": []
  },
  {
   "cell_type": "raw",
   "id": "ccff067d-56df-427e-9e54-3903fc56c99d",
   "metadata": {},
   "source": []
  },
  {
   "cell_type": "raw",
   "id": "5b3cb35e-7788-4941-8e25-eec7f83c549a",
   "metadata": {},
   "source": [
    "Ques.2 Name the four pillars of OOPs. "
   ]
  },
  {
   "cell_type": "raw",
   "id": "c9b0e2be-b6e6-4cb4-a84e-0534665c0fb4",
   "metadata": {},
   "source": [
    "Encapsulation,Polymorphism,Inheritence and Abstract"
   ]
  },
  {
   "cell_type": "raw",
   "id": "fb9e0852-18ab-4b15-b2d8-480831a268c4",
   "metadata": {},
   "source": []
  },
  {
   "cell_type": "raw",
   "id": "407682f4-188e-4240-8421-8bf5a15880ce",
   "metadata": {},
   "source": []
  },
  {
   "cell_type": "raw",
   "id": "dcefa8fb-3443-46a6-85dc-dd3b1726db5c",
   "metadata": {},
   "source": [
    "Ques.3  Explain why the __init__() function is used. Give a suitable example."
   ]
  },
  {
   "cell_type": "raw",
   "id": "9a7094d4-2369-42c0-a938-9d78cdf367ec",
   "metadata": {},
   "source": [
    "The __init__() function in Python is a special method, also known as the constructor method, used to initialize the attributes of an object when it's created from a class. It's automatically called every time a new instance of the class is created. This method allows you to set up the initial state of an object by assigning values to its attributes."
   ]
  },
  {
   "cell_type": "code",
   "execution_count": 2,
   "id": "ba73aef8-cb7f-49d4-a42f-144f96597116",
   "metadata": {},
   "outputs": [],
   "source": [
    "class vehicle:\n",
    "    def __init__(self,name_of_vehicle,max_speed,average_of_vehicle):\n",
    "        self.name_of_vehicle=name_of_vehicle\n",
    "        self.max_speed=max_speed\n",
    "        self.average_of_vehicle=average_of_vehicle\n",
    "    def return_car_details(self):\n",
    "        return self.name_of_vehicle,self.max_speed,self.average_of_vehicle"
   ]
  },
  {
   "cell_type": "code",
   "execution_count": 3,
   "id": "5eb85843-dcbb-4dc9-8871-26077f94d8e5",
   "metadata": {},
   "outputs": [],
   "source": [
    "sudhakar=vehicle(\"Fortuner\",150,70)"
   ]
  },
  {
   "cell_type": "code",
   "execution_count": 4,
   "id": "b9ef0ef6-89bd-488c-9a96-e9187aac5b06",
   "metadata": {},
   "outputs": [
    {
     "data": {
      "text/plain": [
       "('Fortuner', 150, 70)"
      ]
     },
     "execution_count": 4,
     "metadata": {},
     "output_type": "execute_result"
    }
   ],
   "source": [
    "sudhakar.return_car_details()"
   ]
  },
  {
   "cell_type": "raw",
   "id": "f492faa8-d978-4110-ab02-46d0a832b5a3",
   "metadata": {},
   "source": []
  },
  {
   "cell_type": "raw",
   "id": "c218d284-1f3d-4ec6-8003-80ccd1fb21fe",
   "metadata": {},
   "source": []
  },
  {
   "cell_type": "raw",
   "id": "939ad4b9-4c04-45a7-8802-091423e0debd",
   "metadata": {},
   "source": [
    "Ques.4 Why self is used in OOPs?"
   ]
  },
  {
   "cell_type": "raw",
   "id": "e458a73c-bb0d-4431-bd99-4d3fca6a500e",
   "metadata": {},
   "source": [
    "In object-oriented programming (OOP), self is a convention (not a keyword) used in Python (and in some other object-oriented languages) to refer to the instance of the class itself. It's the first parameter of instance methods within a class and represents the instance on which the method is called."
   ]
  },
  {
   "cell_type": "raw",
   "id": "43fb8d87-0251-40f6-b987-dcfa89f178cd",
   "metadata": {},
   "source": []
  },
  {
   "cell_type": "raw",
   "id": "28deff32-982e-4910-96fa-ba1911d2b80f",
   "metadata": {},
   "source": []
  },
  {
   "cell_type": "raw",
   "id": "9dca71ec-8d79-4fa9-9db8-7b0c4f1cb796",
   "metadata": {},
   "source": [
    "Ques.5  What is inheritance? Give an example for each type of inheritance."
   ]
  },
  {
   "cell_type": "raw",
   "id": "91a7bdaf-30d6-47bd-b43c-72990fae4055",
   "metadata": {},
   "source": [
    "Inheritance is a fundamental concept in object-oriented programming that allows a new class (called the derived or child class) to inherit properties and behavior from an existing class (called the base or parent class). "
   ]
  },
  {
   "cell_type": "raw",
   "id": "62dacdc0-8a26-4ba8-b59e-9ce007c1d05c",
   "metadata": {},
   "source": [
    "Single Inheritence :-"
   ]
  },
  {
   "cell_type": "code",
   "execution_count": 5,
   "id": "746419b2-bb61-4ea0-9a01-2684c7fb342d",
   "metadata": {},
   "outputs": [
    {
     "name": "stdout",
     "output_type": "stream",
     "text": [
      "Woof!\n"
     ]
    }
   ],
   "source": [
    "class Animal:\n",
    "    def sound(self):\n",
    "        print(\"Some generic sound\")\n",
    "\n",
    "class Dog(Animal):  # Dog inherits from Animal\n",
    "    def sound(self):\n",
    "        print(\"Woof!\")\n",
    "\n",
    "# Creating an instance of Dog\n",
    "dog = Dog()\n",
    "dog.sound()  # Output: Woof!\n"
   ]
  },
  {
   "cell_type": "raw",
   "id": "c03dc455-298f-4af0-a7fa-bdde96983093",
   "metadata": {},
   "source": [
    "Multiple Inheritence:-"
   ]
  },
  {
   "cell_type": "code",
   "execution_count": 6,
   "id": "64b0d5e1-3d6c-4e88-a215-2d3171eabe72",
   "metadata": {},
   "outputs": [
    {
     "name": "stdout",
     "output_type": "stream",
     "text": [
      "Method A\n",
      "Method B\n",
      "Method C\n"
     ]
    }
   ],
   "source": [
    "class A:\n",
    "    def method_A(self):\n",
    "        print(\"Method A\")\n",
    "\n",
    "class B:\n",
    "    def method_B(self):\n",
    "        print(\"Method B\")\n",
    "\n",
    "class C(A, B):  # C inherits from both A and B\n",
    "    def method_C(self):\n",
    "        print(\"Method C\")\n",
    "\n",
    "# Creating an instance of C\n",
    "obj = C()\n",
    "obj.method_A()  # Output: Method A\n",
    "obj.method_B()  # Output: Method B\n",
    "obj.method_C()  # Output: Method C\n"
   ]
  },
  {
   "cell_type": "raw",
   "id": "3f9a97e0-e84c-44af-a1be-5885c4bd1e7b",
   "metadata": {},
   "source": [
    "Multilevel Inheritence :-"
   ]
  },
  {
   "cell_type": "code",
   "execution_count": 7,
   "id": "af3f0d97-1036-4fcc-9813-a392cf36248a",
   "metadata": {},
   "outputs": [
    {
     "name": "stdout",
     "output_type": "stream",
     "text": [
      "Method A\n",
      "Method B\n",
      "Method C\n"
     ]
    }
   ],
   "source": [
    "class A:\n",
    "    def method_A(self):\n",
    "        print(\"Method A\")\n",
    "\n",
    "class B(A):  # B inherits from A\n",
    "    def method_B(self):\n",
    "        print(\"Method B\")\n",
    "\n",
    "class C(B):  # C inherits from B\n",
    "    def method_C(self):\n",
    "        print(\"Method C\")\n",
    "\n",
    "# Creating an instance of C\n",
    "obj = C()\n",
    "obj.method_A()  # Output: Method A\n",
    "obj.method_B()  # Output: Method B\n",
    "obj.method_C()  # Output: Method C\n"
   ]
  },
  {
   "cell_type": "raw",
   "id": "69707004-838b-4b93-8c19-87f48134a28b",
   "metadata": {},
   "source": [
    "Hierarchical Inheritance :- "
   ]
  },
  {
   "cell_type": "code",
   "execution_count": 8,
   "id": "45cb8f89-49ea-459b-9f8d-375d163fec90",
   "metadata": {},
   "outputs": [
    {
     "name": "stdout",
     "output_type": "stream",
     "text": [
      "Driving a vehicle\n",
      "Parking the car\n",
      "Driving a vehicle\n",
      "Riding the bike\n"
     ]
    }
   ],
   "source": [
    "class Vehicle:\n",
    "    def drive(self):\n",
    "        print(\"Driving a vehicle\")\n",
    "\n",
    "class Car(Vehicle):  # Car inherits from Vehicle\n",
    "    def park(self):\n",
    "        print(\"Parking the car\")\n",
    "\n",
    "class Bike(Vehicle):  # Bike inherits from Vehicle\n",
    "    def ride(self):\n",
    "        print(\"Riding the bike\")\n",
    "\n",
    "# Creating instances of Car and Bike\n",
    "car = Car()\n",
    "bike = Bike()\n",
    "car.drive()  # Output: Driving a vehicle\n",
    "car.park()   # Output: Parking the car\n",
    "bike.drive()  # Output: Driving a vehicle\n",
    "bike.ride()   # Output: Riding the bike\n"
   ]
  },
  {
   "cell_type": "code",
   "execution_count": null,
   "id": "fcba27eb-5fbe-4afa-8d9c-45573bd868b3",
   "metadata": {},
   "outputs": [],
   "source": []
  }
 ],
 "metadata": {
  "kernelspec": {
   "display_name": "Python 3 (ipykernel)",
   "language": "python",
   "name": "python3"
  },
  "language_info": {
   "codemirror_mode": {
    "name": "ipython",
    "version": 3
   },
   "file_extension": ".py",
   "mimetype": "text/x-python",
   "name": "python",
   "nbconvert_exporter": "python",
   "pygments_lexer": "ipython3",
   "version": "3.10.8"
  }
 },
 "nbformat": 4,
 "nbformat_minor": 5
}
